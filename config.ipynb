{
 "cells": [
  {
   "cell_type": "code",
   "execution_count": 1,
   "metadata": {},
   "outputs": [
    {
     "name": "stdout",
     "output_type": "stream",
     "text": [
      "Collecting malmo\n",
      "  Downloading malmo-0.36.0.0-cp36-cp36m-win_amd64.whl (724 kB)\n",
      "Installing collected packages: malmo\n",
      "Successfully installed malmo-0.36.0.0\n"
     ]
    }
   ],
   "source": [
    "!pip3 install malmo"
   ]
  },
  {
   "cell_type": "code",
   "execution_count": 2,
   "metadata": {},
   "outputs": [
    {
     "name": "stdout",
     "output_type": "stream",
     "text": [
      "Package             Version\n",
      "------------------- -------------------\n",
      "argon2-cffi         20.1.0\n",
      "astroid             2.3.3\n",
      "async-generator     1.10\n",
      "attrs               20.3.0\n",
      "backcall            0.2.0\n",
      "bleach              3.2.1\n",
      "certifi             2020.12.5\n",
      "cffi                1.14.4\n",
      "colorama            0.4.4\n",
      "decorator           4.4.2\n",
      "defusedxml          0.6.0\n",
      "entrypoints         0.3\n",
      "importlib-metadata  2.0.0\n",
      "ipykernel           5.3.4\n",
      "ipython             7.16.1\n",
      "ipython-genutils    0.2.0\n",
      "isort               4.3.21\n",
      "jedi                0.18.0\n",
      "Jinja2              2.11.2\n",
      "jsonschema          3.2.0\n",
      "jupyter-client      6.1.7\n",
      "jupyter-core        4.7.0\n",
      "jupyterlab-pygments 0.1.2\n",
      "lazy-object-proxy   1.4.3\n",
      "malmo               0.36.0.0\n",
      "MarkupSafe          1.1.1\n",
      "mccabe              0.6.1\n",
      "mistune             0.8.4\n",
      "nbclient            0.5.1\n",
      "nbconvert           6.0.7\n",
      "nbformat            5.0.8\n",
      "nest-asyncio        1.4.3\n",
      "notebook            6.1.6\n",
      "packaging           20.8\n",
      "pandocfilters       1.4.3\n",
      "parso               0.7.0\n",
      "pickleshare         0.7.5\n",
      "pip                 20.3.3\n",
      "prometheus-client   0.9.0\n",
      "prompt-toolkit      3.0.8\n",
      "pycparser           2.20\n",
      "Pygments            2.7.3\n",
      "pylint              2.4.4\n",
      "pyparsing           2.4.7\n",
      "pyrsistent          0.17.3\n",
      "python-dateutil     2.8.1\n",
      "pywin32             227\n",
      "pywinpty            0.5.7\n",
      "pyzmq               20.0.0\n",
      "Send2Trash          1.5.0\n",
      "setuptools          51.0.0.post20201207\n",
      "six                 1.15.0\n",
      "terminado           0.9.1\n",
      "testpath            0.4.4\n",
      "tornado             6.1\n",
      "traitlets           4.3.3\n",
      "typed-ast           1.4.1\n",
      "wcwidth             0.2.5\n",
      "webencodings        0.5.1\n",
      "wheel               0.36.2\n",
      "wincertstore        0.2\n",
      "wrapt               1.11.2\n",
      "zipp                3.4.0\n"
     ]
    }
   ],
   "source": [
    "!pip3 list"
   ]
  },
  {
   "cell_type": "code",
   "execution_count": 3,
   "metadata": {},
   "outputs": [
    {
     "data": {
      "text/plain": [
       "'C:\\\\Users\\\\User\\\\Desktop\\\\Pip locally malmo\\\\MalmoPlatform\\\\Minecraft'"
      ]
     },
     "execution_count": 3,
     "metadata": {},
     "output_type": "execute_result"
    }
   ],
   "source": [
    "import malmo.minecraftbootstrap; malmo.minecraftbootstrap.download()"
   ]
  },
  {
   "cell_type": "code",
   "execution_count": 5,
   "metadata": {},
   "outputs": [],
   "source": [
    "import malmo.minecraftbootstrap; #malmo.minecraftbootstrap.launch_minecraft()"
   ]
  },
  {
   "cell_type": "code",
   "execution_count": 6,
   "metadata": {},
   "outputs": [
    {
     "name": "stdout",
     "output_type": "stream",
     "text": [
      "C:\\Users\\User\\Desktop\\Pip locally malmo\\MalmoPlatform\\Schemas\n"
     ]
    }
   ],
   "source": [
    "malmo.minecraftbootstrap.set_malmo_xsd_path()"
   ]
  },
  {
   "cell_type": "code",
   "execution_count": 1,
   "metadata": {},
   "outputs": [
    {
     "name": "stdout",
     "output_type": "stream",
     "text": [
      "experiment id 7cd327ba-5491-11eb-b0fd-6045cb1a8674\n",
      "Waiting for the mission to start .....................................................................................................................................................................................\n",
      "video,observations,rewards received: 0 0 0\n",
      "video,observations,rewards received: 0 0 0\n",
      "video,observations,rewards received: 1 0 0\n",
      "Frame: 320 x 240 : 3 channels\n",
      "video,observations,rewards received: 0 0 0\n",
      "Mission has stopped.\n"
     ]
    }
   ],
   "source": [
    "# Run the missing testing\n",
    "\n",
    "from malmo.run_mission import run; run()"
   ]
  },
  {
   "cell_type": "code",
   "execution_count": 8,
   "metadata": {},
   "outputs": [
    {
     "name": "stdout",
     "output_type": "stream",
     "text": [
      "Requirement already satisfied: six in c:\\users\\user\\anaconda3\\envs\\fyp_malmo\\lib\\site-packages (1.15.0)\n",
      "Requirement already satisfied: wheel in c:\\users\\user\\anaconda3\\envs\\fyp_malmo\\lib\\site-packages (0.36.2)\n",
      "Collecting numpy\n",
      "  Downloading numpy-1.19.4-cp36-cp36m-win_amd64.whl (12.9 MB)\n",
      "Installing collected packages: numpy\n",
      "Successfully installed numpy-1.19.4\n"
     ]
    }
   ],
   "source": [
    "# install tensorflow components\n",
    "!pip3 install six numpy wheel"
   ]
  },
  {
   "cell_type": "code",
   "execution_count": 9,
   "metadata": {},
   "outputs": [
    {
     "name": "stdout",
     "output_type": "stream",
     "text": [
      "Collecting keras_applications==1.0.6\n",
      "  Downloading Keras_Applications-1.0.6-py2.py3-none-any.whl (44 kB)\n",
      "Installing collected packages: keras-applications\n",
      "Successfully installed keras-applications-1.0.6\n"
     ]
    }
   ],
   "source": [
    "!pip3 install keras_applications==1.0.6 --no-deps"
   ]
  },
  {
   "cell_type": "code",
   "execution_count": 10,
   "metadata": {},
   "outputs": [
    {
     "name": "stdout",
     "output_type": "stream",
     "text": [
      "Collecting keras_preprocessing==1.0.5\n",
      "  Downloading Keras_Preprocessing-1.0.5-py2.py3-none-any.whl (30 kB)\n",
      "Installing collected packages: keras-preprocessing\n",
      "Successfully installed keras-preprocessing-1.0.5\n"
     ]
    }
   ],
   "source": [
    "!pip3 install keras_preprocessing==1.0.5 --no-deps"
   ]
  },
  {
   "cell_type": "code",
   "execution_count": 12,
   "metadata": {},
   "outputs": [
    {
     "name": "stdout",
     "output_type": "stream",
     "text": [
      "Collecting tensorflow"
     ]
    },
    {
     "name": "stderr",
     "output_type": "stream",
     "text": [
      "ERROR: pip's dependency resolver does not currently take into account all the packages that are installed. This behaviour is the source of the following dependency conflicts.\n"
     ]
    },
    {
     "name": "stdout",
     "output_type": "stream",
     "text": [
      "\n",
      "  Downloading tensorflow-2.4.0-cp36-cp36m-win_amd64.whl (370.6 MB)\n"
     ]
    },
    {
     "name": "stderr",
     "output_type": "stream",
     "text": [
      "astroid 2.3.3 requires wrapt==1.11.*, but you have wrapt 1.12.1 which is incompatible.\n"
     ]
    },
    {
     "name": "stdout",
     "output_type": "stream",
     "text": [
      "Requirement already satisfied: six~=1.15.0 in c:\\users\\user\\anaconda3\\envs\\fyp_malmo\\lib\\site-packages (from tensorflow) (1.15.0)\n",
      "Requirement already satisfied: numpy~=1.19.2 in c:\\users\\user\\anaconda3\\envs\\fyp_malmo\\lib\\site-packages (from tensorflow) (1.19.4)\n",
      "Requirement already satisfied: wheel~=0.35 in c:\\users\\user\\anaconda3\\envs\\fyp_malmo\\lib\\site-packages (from tensorflow) (0.36.2)\n",
      "Collecting gast==0.3.3\n",
      "  Using cached gast-0.3.3-py2.py3-none-any.whl (9.7 kB)\n",
      "Collecting absl-py~=0.10\n",
      "  Downloading absl_py-0.11.0-py3-none-any.whl (127 kB)\n",
      "Collecting astunparse~=1.6.3\n",
      "  Using cached astunparse-1.6.3-py2.py3-none-any.whl (12 kB)\n",
      "Collecting flatbuffers~=1.12.0\n",
      "  Downloading flatbuffers-1.12-py2.py3-none-any.whl (15 kB)\n",
      "Collecting google-pasta~=0.2\n",
      "  Using cached google_pasta-0.2.0-py3-none-any.whl (57 kB)\n",
      "Collecting grpcio~=1.32.0\n",
      "  Downloading grpcio-1.32.0-cp36-cp36m-win_amd64.whl (2.6 MB)\n",
      "Collecting h5py~=2.10.0\n",
      "  Using cached h5py-2.10.0-cp36-cp36m-win_amd64.whl (2.4 MB)\n",
      "Collecting keras-preprocessing~=1.1.2\n",
      "  Using cached Keras_Preprocessing-1.1.2-py2.py3-none-any.whl (42 kB)\n",
      "Collecting opt-einsum~=3.3.0\n",
      "  Using cached opt_einsum-3.3.0-py3-none-any.whl (65 kB)\n",
      "Collecting protobuf>=3.9.2\n",
      "  Downloading protobuf-3.14.0-cp36-cp36m-win_amd64.whl (904 kB)\n",
      "Collecting tensorboard~=2.4\n",
      "  Downloading tensorboard-2.4.0-py3-none-any.whl (10.6 MB)\n",
      "Requirement already satisfied: setuptools>=41.0.0 in c:\\users\\user\\anaconda3\\envs\\fyp_malmo\\lib\\site-packages (from tensorboard~=2.4->tensorflow) (51.0.0.post20201207)\n",
      "Collecting google-auth<2,>=1.6.3\n",
      "  Downloading google_auth-1.24.0-py2.py3-none-any.whl (114 kB)\n",
      "Collecting cachetools<5.0,>=2.0.0\n",
      "  Downloading cachetools-4.2.0-py3-none-any.whl (12 kB)\n",
      "Collecting google-auth-oauthlib<0.5,>=0.4.1\n",
      "  Downloading google_auth_oauthlib-0.4.2-py2.py3-none-any.whl (18 kB)\n",
      "Collecting markdown>=2.6.8\n",
      "  Downloading Markdown-3.3.3-py3-none-any.whl (96 kB)\n",
      "Requirement already satisfied: importlib-metadata in c:\\users\\user\\anaconda3\\envs\\fyp_malmo\\lib\\site-packages (from markdown>=2.6.8->tensorboard~=2.4->tensorflow) (2.0.0)\n",
      "Collecting pyasn1-modules>=0.2.1\n",
      "  Using cached pyasn1_modules-0.2.8-py2.py3-none-any.whl (155 kB)\n",
      "Collecting pyasn1<0.5.0,>=0.4.6\n",
      "  Using cached pyasn1-0.4.8-py2.py3-none-any.whl (77 kB)\n",
      "Collecting requests<3,>=2.21.0\n",
      "  Downloading requests-2.25.1-py2.py3-none-any.whl (61 kB)\n",
      "Requirement already satisfied: certifi>=2017.4.17 in c:\\users\\user\\anaconda3\\envs\\fyp_malmo\\lib\\site-packages (from requests<3,>=2.21.0->tensorboard~=2.4->tensorflow) (2020.12.5)\n",
      "Collecting chardet<5,>=3.0.2\n",
      "  Downloading chardet-4.0.0-py2.py3-none-any.whl (178 kB)\n",
      "Collecting idna<3,>=2.5\n",
      "  Using cached idna-2.10-py2.py3-none-any.whl (58 kB)\n",
      "Collecting requests-oauthlib>=0.7.0\n",
      "  Using cached requests_oauthlib-1.3.0-py2.py3-none-any.whl (23 kB)\n",
      "Collecting oauthlib>=3.0.0\n",
      "  Using cached oauthlib-3.1.0-py2.py3-none-any.whl (147 kB)\n",
      "Collecting rsa<5,>=3.1.4\n",
      "  Using cached rsa-4.6-py3-none-any.whl (47 kB)\n",
      "Collecting tensorboard-plugin-wit>=1.6.0\n",
      "  Using cached tensorboard_plugin_wit-1.7.0-py3-none-any.whl (779 kB)\n",
      "Collecting tensorflow-estimator<2.5.0,>=2.4.0rc0\n",
      "  Downloading tensorflow_estimator-2.4.0-py2.py3-none-any.whl (462 kB)\n",
      "Collecting termcolor~=1.1.0\n",
      "  Using cached termcolor-1.1.0-py3-none-any.whl\n",
      "Collecting typing-extensions~=3.7.4\n",
      "  Downloading typing_extensions-3.7.4.3-py3-none-any.whl (22 kB)\n",
      "Collecting urllib3<1.27,>=1.21.1\n",
      "  Downloading urllib3-1.26.2-py2.py3-none-any.whl (136 kB)\n",
      "Collecting werkzeug>=0.11.15\n",
      "  Using cached Werkzeug-1.0.1-py2.py3-none-any.whl (298 kB)\n",
      "Collecting wrapt~=1.12.1\n",
      "  Downloading wrapt-1.12.1.tar.gz (27 kB)\n",
      "Requirement already satisfied: zipp>=0.5 in c:\\users\\user\\anaconda3\\envs\\fyp_malmo\\lib\\site-packages (from importlib-metadata->markdown>=2.6.8->tensorboard~=2.4->tensorflow) (3.4.0)\n",
      "Building wheels for collected packages: wrapt\n",
      "  Building wheel for wrapt (setup.py): started\n",
      "  Building wheel for wrapt (setup.py): finished with status 'done'\n",
      "  Created wheel for wrapt: filename=wrapt-1.12.1-py3-none-any.whl size=19553 sha256=645936e58651fa83a2163b1af58fdd8f63c4677f2001fcaa54c9af5f481e11eb\n",
      "  Stored in directory: c:\\users\\user\\appdata\\local\\pip\\cache\\wheels\\32\\42\\7f\\23cae9ff6ef66798d00dc5d659088e57dbba01566f6c60db63\n",
      "Successfully built wrapt\n",
      "Installing collected packages: urllib3, pyasn1, idna, chardet, rsa, requests, pyasn1-modules, oauthlib, cachetools, requests-oauthlib, google-auth, werkzeug, tensorboard-plugin-wit, protobuf, markdown, grpcio, google-auth-oauthlib, absl-py, wrapt, typing-extensions, termcolor, tensorflow-estimator, tensorboard, opt-einsum, keras-preprocessing, h5py, google-pasta, gast, flatbuffers, astunparse, tensorflow\n",
      "  Attempting uninstall: wrapt\n",
      "    Found existing installation: wrapt 1.11.2\n",
      "    Uninstalling wrapt-1.11.2:\n",
      "      Successfully uninstalled wrapt-1.11.2\n",
      "  Attempting uninstall: keras-preprocessing\n",
      "    Found existing installation: Keras-Preprocessing 1.0.5\n",
      "    Uninstalling Keras-Preprocessing-1.0.5:\n",
      "      Successfully uninstalled Keras-Preprocessing-1.0.5\n",
      "Successfully installed absl-py-0.11.0 astunparse-1.6.3 cachetools-4.2.0 chardet-4.0.0 flatbuffers-1.12 gast-0.3.3 google-auth-1.24.0 google-auth-oauthlib-0.4.2 google-pasta-0.2.0 grpcio-1.32.0 h5py-2.10.0 idna-2.10 keras-preprocessing-1.1.2 markdown-3.3.3 oauthlib-3.1.0 opt-einsum-3.3.0 protobuf-3.14.0 pyasn1-0.4.8 pyasn1-modules-0.2.8 requests-2.25.1 requests-oauthlib-1.3.0 rsa-4.6 tensorboard-2.4.0 tensorboard-plugin-wit-1.7.0 tensorflow-2.4.0 tensorflow-estimator-2.4.0 termcolor-1.1.0 typing-extensions-3.7.4.3 urllib3-1.26.2 werkzeug-1.0.1 wrapt-1.12.1\n"
     ]
    }
   ],
   "source": [
    "!pip3 install tensorflow"
   ]
  },
  {
   "cell_type": "code",
   "execution_count": 15,
   "metadata": {},
   "outputs": [
    {
     "name": "stdout",
     "output_type": "stream",
     "text": [
      "Package                Version\n",
      "---------------------- -------------------\n",
      "absl-py                0.11.0\n",
      "argon2-cffi            20.1.0\n",
      "astroid                2.3.3\n",
      "astunparse             1.6.3\n",
      "async-generator        1.10\n",
      "attrs                  20.3.0\n",
      "backcall               0.2.0\n",
      "bleach                 3.2.1\n",
      "cachetools             4.2.0\n",
      "certifi                2020.12.5\n",
      "cffi                   1.14.4\n",
      "chardet                4.0.0\n",
      "colorama               0.4.4\n",
      "decorator              4.4.2\n",
      "defusedxml             0.6.0\n",
      "entrypoints            0.3\n",
      "flatbuffers            1.12\n",
      "gast                   0.3.3\n",
      "google-auth            1.24.0\n",
      "google-auth-oauthlib   0.4.2\n",
      "google-pasta           0.2.0\n",
      "grpcio                 1.32.0\n",
      "h5py                   2.10.0\n",
      "idna                   2.10\n",
      "importlib-metadata     2.0.0\n",
      "ipykernel              5.3.4\n",
      "ipython                7.16.1\n",
      "ipython-genutils       0.2.0\n",
      "isort                  4.3.21\n",
      "jedi                   0.18.0\n",
      "Jinja2                 2.11.2\n",
      "jsonschema             3.2.0\n",
      "jupyter-client         6.1.7\n",
      "jupyter-core           4.7.0\n",
      "jupyterlab-pygments    0.1.2\n",
      "Keras-Applications     1.0.6\n",
      "Keras-Preprocessing    1.1.2\n",
      "lazy-object-proxy      1.4.3\n",
      "malmo                  0.36.0.0\n",
      "Markdown               3.3.3\n",
      "MarkupSafe             1.1.1\n",
      "mccabe                 0.6.1\n",
      "mistune                0.8.4\n",
      "nbclient               0.5.1\n",
      "nbconvert              6.0.7\n",
      "nbformat               5.0.8\n",
      "nest-asyncio           1.4.3\n",
      "notebook               6.1.6\n",
      "numpy                  1.19.4\n",
      "oauthlib               3.1.0\n",
      "opt-einsum             3.3.0\n",
      "packaging              20.8\n",
      "pandocfilters          1.4.3\n",
      "parso                  0.7.0\n",
      "pickleshare            0.7.5\n",
      "pip                    20.3.3\n",
      "prometheus-client      0.9.0\n",
      "prompt-toolkit         3.0.8\n",
      "protobuf               3.14.0\n",
      "pyasn1                 0.4.8\n",
      "pyasn1-modules         0.2.8\n",
      "pycparser              2.20\n",
      "Pygments               2.7.3\n",
      "pylint                 2.4.4\n",
      "pyparsing              2.4.7\n",
      "pyrsistent             0.17.3\n",
      "python-dateutil        2.8.1\n",
      "pywin32                227\n",
      "pywinpty               0.5.7\n",
      "pyzmq                  20.0.0\n",
      "requests               2.25.1\n",
      "requests-oauthlib      1.3.0\n",
      "rsa                    4.6\n",
      "Send2Trash             1.5.0\n",
      "setuptools             51.0.0.post20201207\n",
      "six                    1.15.0\n",
      "tensorboard            2.4.0\n",
      "tensorboard-plugin-wit 1.7.0\n",
      "tensorflow             2.4.0\n",
      "tensorflow-estimator   2.4.0\n",
      "termcolor              1.1.0\n",
      "terminado              0.9.1\n",
      "testpath               0.4.4\n",
      "tornado                6.1\n",
      "traitlets              4.3.3\n",
      "typed-ast              1.4.1\n",
      "typing-extensions      3.7.4.3\n",
      "urllib3                1.26.2\n",
      "wcwidth                0.2.5\n",
      "webencodings           0.5.1\n",
      "Werkzeug               1.0.1\n",
      "wheel                  0.36.2\n",
      "wincertstore           0.2\n",
      "wrapt                  1.12.1\n",
      "zipp                   3.4.0\n"
     ]
    }
   ],
   "source": [
    "!pip3 list"
   ]
  },
  {
   "cell_type": "code",
   "execution_count": 16,
   "metadata": {},
   "outputs": [
    {
     "name": "stdout",
     "output_type": "stream",
     "text": [
      "Requirement already satisfied: tensorflow in c:\\users\\user\\anaconda3\\envs\\fyp_malmo\\lib\\site-packages (2.4.0)\n",
      "Requirement already satisfied: h5py~=2.10.0 in c:\\users\\user\\anaconda3\\envs\\fyp_malmo\\lib\\site-packages (from tensorflow) (2.10.0)\n",
      "Requirement already satisfied: google-pasta~=0.2 in c:\\users\\user\\anaconda3\\envs\\fyp_malmo\\lib\\site-packages (from tensorflow) (0.2.0)\n",
      "Requirement already satisfied: gast==0.3.3 in c:\\users\\user\\anaconda3\\envs\\fyp_malmo\\lib\\site-packages (from tensorflow) (0.3.3)\n",
      "Requirement already satisfied: grpcio~=1.32.0 in c:\\users\\user\\anaconda3\\envs\\fyp_malmo\\lib\\site-packages (from tensorflow) (1.32.0)\n",
      "Requirement already satisfied: opt-einsum~=3.3.0 in c:\\users\\user\\anaconda3\\envs\\fyp_malmo\\lib\\site-packages (from tensorflow) (3.3.0)\n",
      "Requirement already satisfied: termcolor~=1.1.0 in c:\\users\\user\\anaconda3\\envs\\fyp_malmo\\lib\\site-packages (from tensorflow) (1.1.0)\n",
      "Requirement already satisfied: typing-extensions~=3.7.4 in c:\\users\\user\\anaconda3\\envs\\fyp_malmo\\lib\\site-packages (from tensorflow) (3.7.4.3)\n",
      "Requirement already satisfied: tensorboard~=2.4 in c:\\users\\user\\anaconda3\\envs\\fyp_malmo\\lib\\site-packages (from tensorflow) (2.4.0)\n",
      "Requirement already satisfied: numpy~=1.19.2 in c:\\users\\user\\anaconda3\\envs\\fyp_malmo\\lib\\site-packages (from tensorflow) (1.19.4)\n",
      "Requirement already satisfied: keras-preprocessing~=1.1.2 in c:\\users\\user\\anaconda3\\envs\\fyp_malmo\\lib\\site-packages (from tensorflow) (1.1.2)\n",
      "Requirement already satisfied: wheel~=0.35 in c:\\users\\user\\anaconda3\\envs\\fyp_malmo\\lib\\site-packages (from tensorflow) (0.36.2)\n",
      "Requirement already satisfied: tensorflow-estimator<2.5.0,>=2.4.0rc0 in c:\\users\\user\\anaconda3\\envs\\fyp_malmo\\lib\\site-packages (from tensorflow) (2.4.0)\n",
      "Requirement already satisfied: astunparse~=1.6.3 in c:\\users\\user\\anaconda3\\envs\\fyp_malmo\\lib\\site-packages (from tensorflow) (1.6.3)\n",
      "Requirement already satisfied: six~=1.15.0 in c:\\users\\user\\anaconda3\\envs\\fyp_malmo\\lib\\site-packages (from tensorflow) (1.15.0)\n",
      "Requirement already satisfied: wrapt~=1.12.1 in c:\\users\\user\\anaconda3\\envs\\fyp_malmo\\lib\\site-packages (from tensorflow) (1.12.1)\n",
      "Requirement already satisfied: protobuf>=3.9.2 in c:\\users\\user\\anaconda3\\envs\\fyp_malmo\\lib\\site-packages (from tensorflow) (3.14.0)\n",
      "Requirement already satisfied: absl-py~=0.10 in c:\\users\\user\\anaconda3\\envs\\fyp_malmo\\lib\\site-packages (from tensorflow) (0.11.0)\n",
      "Requirement already satisfied: flatbuffers~=1.12.0 in c:\\users\\user\\anaconda3\\envs\\fyp_malmo\\lib\\site-packages (from tensorflow) (1.12)\n",
      "Requirement already satisfied: google-auth<2,>=1.6.3 in c:\\users\\user\\anaconda3\\envs\\fyp_malmo\\lib\\site-packages (from tensorboard~=2.4->tensorflow) (1.24.0)\n",
      "Requirement already satisfied: setuptools>=41.0.0 in c:\\users\\user\\anaconda3\\envs\\fyp_malmo\\lib\\site-packages (from tensorboard~=2.4->tensorflow) (51.0.0.post20201207)\n",
      "Requirement already satisfied: requests<3,>=2.21.0 in c:\\users\\user\\anaconda3\\envs\\fyp_malmo\\lib\\site-packages (from tensorboard~=2.4->tensorflow) (2.25.1)\n",
      "Requirement already satisfied: werkzeug>=0.11.15 in c:\\users\\user\\anaconda3\\envs\\fyp_malmo\\lib\\site-packages (from tensorboard~=2.4->tensorflow) (1.0.1)\n",
      "Requirement already satisfied: tensorboard-plugin-wit>=1.6.0 in c:\\users\\user\\anaconda3\\envs\\fyp_malmo\\lib\\site-packages (from tensorboard~=2.4->tensorflow) (1.7.0)\n",
      "Requirement already satisfied: google-auth-oauthlib<0.5,>=0.4.1 in c:\\users\\user\\anaconda3\\envs\\fyp_malmo\\lib\\site-packages (from tensorboard~=2.4->tensorflow) (0.4.2)\n",
      "Requirement already satisfied: markdown>=2.6.8 in c:\\users\\user\\anaconda3\\envs\\fyp_malmo\\lib\\site-packages (from tensorboard~=2.4->tensorflow) (3.3.3)\n",
      "Requirement already satisfied: pyasn1-modules>=0.2.1 in c:\\users\\user\\anaconda3\\envs\\fyp_malmo\\lib\\site-packages (from google-auth<2,>=1.6.3->tensorboard~=2.4->tensorflow) (0.2.8)\n",
      "Requirement already satisfied: rsa<5,>=3.1.4 in c:\\users\\user\\anaconda3\\envs\\fyp_malmo\\lib\\site-packages (from google-auth<2,>=1.6.3->tensorboard~=2.4->tensorflow) (4.6)\n",
      "Requirement already satisfied: cachetools<5.0,>=2.0.0 in c:\\users\\user\\anaconda3\\envs\\fyp_malmo\\lib\\site-packages (from google-auth<2,>=1.6.3->tensorboard~=2.4->tensorflow) (4.2.0)\n",
      "Requirement already satisfied: requests-oauthlib>=0.7.0 in c:\\users\\user\\anaconda3\\envs\\fyp_malmo\\lib\\site-packages (from google-auth-oauthlib<0.5,>=0.4.1->tensorboard~=2.4->tensorflow) (1.3.0)\n",
      "Requirement already satisfied: importlib-metadata in c:\\users\\user\\anaconda3\\envs\\fyp_malmo\\lib\\site-packages (from markdown>=2.6.8->tensorboard~=2.4->tensorflow) (2.0.0)\n",
      "Requirement already satisfied: pyasn1<0.5.0,>=0.4.6 in c:\\users\\user\\anaconda3\\envs\\fyp_malmo\\lib\\site-packages (from pyasn1-modules>=0.2.1->google-auth<2,>=1.6.3->tensorboard~=2.4->tensorflow) (0.4.8)\n",
      "Requirement already satisfied: certifi>=2017.4.17 in c:\\users\\user\\anaconda3\\envs\\fyp_malmo\\lib\\site-packages (from requests<3,>=2.21.0->tensorboard~=2.4->tensorflow) (2020.12.5)\n",
      "Requirement already satisfied: urllib3<1.27,>=1.21.1 in c:\\users\\user\\anaconda3\\envs\\fyp_malmo\\lib\\site-packages (from requests<3,>=2.21.0->tensorboard~=2.4->tensorflow) (1.26.2)\n",
      "Requirement already satisfied: idna<3,>=2.5 in c:\\users\\user\\anaconda3\\envs\\fyp_malmo\\lib\\site-packages (from requests<3,>=2.21.0->tensorboard~=2.4->tensorflow) (2.10)\n",
      "Requirement already satisfied: chardet<5,>=3.0.2 in c:\\users\\user\\anaconda3\\envs\\fyp_malmo\\lib\\site-packages (from requests<3,>=2.21.0->tensorboard~=2.4->tensorflow) (4.0.0)\n",
      "Requirement already satisfied: oauthlib>=3.0.0 in c:\\users\\user\\anaconda3\\envs\\fyp_malmo\\lib\\site-packages (from requests-oauthlib>=0.7.0->google-auth-oauthlib<0.5,>=0.4.1->tensorboard~=2.4->tensorflow) (3.1.0)\n",
      "Requirement already satisfied: zipp>=0.5 in c:\\users\\user\\anaconda3\\envs\\fyp_malmo\\lib\\site-packages (from importlib-metadata->markdown>=2.6.8->tensorboard~=2.4->tensorflow) (3.4.0)\n"
     ]
    }
   ],
   "source": [
    "!pip3 install --user --upgrade tensorflow"
   ]
  },
  {
   "cell_type": "code",
   "execution_count": 20,
   "metadata": {},
   "outputs": [
    {
     "name": "stdout",
     "output_type": "stream",
     "text": [
      "tf.Tensor(819.61487, shape=(), dtype=float32)\n"
     ]
    }
   ],
   "source": [
    "import tensorflow as tf; print(tf.reduce_sum(tf.random.normal([1000, 1000])))"
   ]
  },
  {
   "cell_type": "code",
   "execution_count": 19,
   "metadata": {},
   "outputs": [
    {
     "name": "stdout",
     "output_type": "stream",
     "text": [
      "Collecting numpy==1.19.3\n"
     ]
    },
    {
     "name": "stderr",
     "output_type": "stream",
     "text": [
      "ERROR: Could not install packages due to an EnvironmentError: [WinError 5] Access is denied: 'c:\\\\users\\\\user\\\\anaconda3\\\\envs\\\\fyp_malmo\\\\lib\\\\site-packages\\\\~umpy\\\\.libs\\\\libopenblas.NOIJJG62EMASZI6NYURL6JBKM4EVBGM7.gfortran-win_amd64.dll'\n"
     ]
    },
    {
     "name": "stdout",
     "output_type": "stream",
     "text": [
      "  Downloading numpy-1.19.3-cp36-cp36m-win_amd64.whl (13.2 MB)\n"
     ]
    },
    {
     "name": "stderr",
     "output_type": "stream",
     "text": [
      "Consider using the `--user` option or check the permissions.\n"
     ]
    },
    {
     "name": "stdout",
     "output_type": "stream",
     "text": [
      "Installing collected packages: numpy\n",
      "  Attempting uninstall: numpy\n"
     ]
    },
    {
     "name": "stderr",
     "output_type": "stream",
     "text": [
      "\n"
     ]
    },
    {
     "name": "stdout",
     "output_type": "stream",
     "text": [
      "    Found existing installation: numpy 1.19.4\n",
      "    Uninstalling numpy-1.19.4:\n",
      "      Successfully uninstalled numpy-1.19.4\n"
     ]
    }
   ],
   "source": [
    "!pip3 install numpy==1.19.3"
   ]
  },
  {
   "cell_type": "code",
   "execution_count": 21,
   "metadata": {},
   "outputs": [
    {
     "name": "stderr",
     "output_type": "stream",
     "text": [
      "ERROR: Could not find a version that satisfies the requirement random\n",
      "ERROR: No matching distribution found for random\n"
     ]
    }
   ],
   "source": [
    "!pip3 install random"
   ]
  },
  {
   "cell_type": "code",
   "execution_count": 23,
   "metadata": {},
   "outputs": [
    {
     "name": "stdout",
     "output_type": "stream",
     "text": [
      "Collecting keras\n",
      "  Using cached Keras-2.4.3-py2.py3-none-any.whl (36 kB)\n",
      "Requirement already satisfied: numpy>=1.9.1 in c:\\users\\user\\anaconda3\\envs\\fyp_malmo\\lib\\site-packages (from keras) (1.19.3)\n",
      "Requirement already satisfied: h5py in c:\\users\\user\\anaconda3\\envs\\fyp_malmo\\lib\\site-packages (from keras) (2.10.0)\n",
      "Collecting scipy>=0.14\n",
      "  Downloading scipy-1.5.4-cp36-cp36m-win_amd64.whl (31.2 MB)\n",
      "Requirement already satisfied: six in c:\\users\\user\\anaconda3\\envs\\fyp_malmo\\lib\\site-packages (from h5py->keras) (1.15.0)\n",
      "Collecting pyyaml\n",
      "  Using cached PyYAML-5.3.1-cp36-cp36m-win_amd64.whl (215 kB)\n",
      "Installing collected packages: scipy, pyyaml, keras\n",
      "Successfully installed keras-2.4.3 pyyaml-5.3.1 scipy-1.5.4\n"
     ]
    }
   ],
   "source": [
    "!pip3 install keras"
   ]
  },
  {
   "cell_type": "code",
   "execution_count": 2,
   "metadata": {},
   "outputs": [
    {
     "name": "stdout",
     "output_type": "stream",
     "text": [
      "Collecting future\n",
      "  Using cached future-0.18.2-py3-none-any.whl\n",
      "Installing collected packages: future\n",
      "Successfully installed future-0.18.2\n"
     ]
    }
   ],
   "source": [
    "!pip3 install future"
   ]
  },
  {
   "cell_type": "code",
   "execution_count": null,
   "metadata": {},
   "outputs": [],
   "source": []
  }
 ],
 "metadata": {
  "kernelspec": {
   "display_name": "Python 3",
   "language": "python",
   "name": "python3"
  },
  "language_info": {
   "codemirror_mode": {
    "name": "ipython",
    "version": 3
   },
   "file_extension": ".py",
   "mimetype": "text/x-python",
   "name": "python",
   "nbconvert_exporter": "python",
   "pygments_lexer": "ipython3",
   "version": "3.6.12"
  }
 },
 "nbformat": 4,
 "nbformat_minor": 4
}
